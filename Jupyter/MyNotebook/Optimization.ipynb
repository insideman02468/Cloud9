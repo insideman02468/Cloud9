{
 "cells": [
  {
   "cell_type": "markdown",
   "metadata": {},
   "source": [
    "$$\n",
    " Objective \\ function\\ :\\ 2x_1 +3x_2\n",
    "$$"
   ]
  },
  {
   "cell_type": "code",
   "execution_count": 1,
   "metadata": {
    "collapsed": false
   },
   "outputs": [
    {
     "name": "stdout",
     "output_type": "stream",
     "text": [
      "問題の式\n",
      "--------\n",
      "Problem-1:\n",
      "MAXIMIZE\n",
      "1*x + 1*y + 0\n",
      "SUBJECT TO\n",
      "Constraint_1: 2 x + y <= 2\n",
      "\n",
      "Constraint_2: x + 2 y <= 2\n",
      "\n",
      "VARIABLES\n",
      "x <= 999 Continuous\n",
      "y <= 9.22337203685e+18 Continuous\n",
      "\n",
      "--------\n",
      "\n",
      "計算結果\n",
      "********\n",
      "最適性 = Optimal\n",
      "目的関数値 = 1.33333334\n",
      "解 x = 0.66666667\n",
      "　 y = 0.66666667\n",
      "********\n"
     ]
    }
   ],
   "source": [
    "# coding: UTF-8\n",
    "\n",
    "# 線形/整数最適化問題を解くためにPuLPをインポート\n",
    "from pulp import *\n",
    "# sys.maxsizeでintの最大値を取得するためにインポート\n",
    "import sys\n",
    "\n",
    "# 数理最適化問題（最大化）を宣言\n",
    "problem = LpProblem(\"Problem-1\", pulp.LpMaximize)\n",
    "\n",
    "# 変数（連続）を宣言\n",
    "x = LpVariable(\"x\", 0, 999, pulp.LpContinuous)\n",
    "y = LpVariable(\"y\", 0, sys.maxsize, pulp.LpContinuous)\n",
    "\n",
    "# 目的関数を宣言\n",
    "problem += ( x + y, \"Objective\" )\n",
    "# かっこは不要だけど、わかりやすさのため記載\n",
    "\n",
    "# 制約条件を宣言\n",
    "problem += ( 2 * x + y <= 2 , \"Constraint_1\" )\n",
    "problem += ( x + 2 * y <= 2 , \"Constraint_2\" )\n",
    "\n",
    "# 問題の式全部を表示\n",
    "print(\"問題の式\")\n",
    "print(\"--------\")\n",
    "print(problem)\n",
    "print(\"--------\")\n",
    "\n",
    "# 計算\n",
    "result_status = problem.solve()\n",
    "\n",
    "# （解が得られていれば）目的関数値や解を表示\n",
    "print(\"\")\n",
    "print(\"計算結果\")\n",
    "print(\"********\")\n",
    "print(\"最適性 = {}\".format(LpStatus[result_status]))\n",
    "print(\"目的関数値 = {}\".format(value(problem.objective)))\n",
    "print(\"解 x = {}\".format(value(x)))\n",
    "print(\"　 y = {}\".format(value(y)))\n",
    "print(\"********\")"
   ]
  },
  {
   "cell_type": "code",
   "execution_count": 6,
   "metadata": {
    "collapsed": false
   },
   "outputs": [
    {
     "name": "stdout",
     "output_type": "stream",
     "text": [
      "LP-Sample:\n",
      "MAXIMIZE\n",
      "2*x1 + 3*x2 + 0\n",
      "SUBJECT TO\n",
      "ineq1: x1 + 3 x2 <= 9\n",
      "\n",
      "ineq2: x1 + x2 <= 4\n",
      "\n",
      "ineq3: x1 + x2 <= 10\n",
      "\n",
      "VARIABLES\n",
      "x1 Continuous\n",
      "x2 Continuous\n",
      "\n",
      "Optimal\n",
      "Optimal value =  10.5\n",
      "x1 = 1.5\n",
      "x2 = 2.5\n"
     ]
    }
   ],
   "source": [
    "from pulp import *\n",
    "prob = LpProblem(name='LP-Sample', sense=LpMaximize)\n",
    "x1 = LpVariable('x1', lowBound=0.0)\n",
    "x2 = LpVariable('x2', lowBound=0.0)\n",
    "prob += 2*x1 + 3*x2 #目的関数\n",
    "prob += x1 + 3*x2 <= 9, 'ineq1'\n",
    "prob += x1 + x2 <= 4, 'ineq2'\n",
    "prob += x1 + x2 <= 10, 'ineq3'\n",
    "print(prob)\n",
    "prob.solve()\n",
    "#結果を表示\n",
    "print(LpStatus[prob.status])\n",
    "print('Optimal value = ', value(prob.objective))\n",
    "for v in prob.variables():\n",
    "    print(v.name,'=',value(v))"
   ]
  }
 ],
 "metadata": {
  "kernelspec": {
   "display_name": "Python 3",
   "language": "python",
   "name": "python3"
  },
  "language_info": {
   "codemirror_mode": {
    "name": "ipython",
    "version": 3
   },
   "file_extension": ".py",
   "mimetype": "text/x-python",
   "name": "python",
   "nbconvert_exporter": "python",
   "pygments_lexer": "ipython3",
   "version": "3.5.4"
  },
  "varInspector": {
   "cols": {
    "lenName": 16,
    "lenType": 16,
    "lenVar": 40
   },
   "kernels_config": {
    "python": {
     "delete_cmd_postfix": "",
     "delete_cmd_prefix": "del ",
     "library": "var_list.py",
     "varRefreshCmd": "print(var_dic_list())"
    },
    "r": {
     "delete_cmd_postfix": ") ",
     "delete_cmd_prefix": "rm(",
     "library": "var_list.r",
     "varRefreshCmd": "cat(var_dic_list()) "
    }
   },
   "types_to_exclude": [
    "module",
    "function",
    "builtin_function_or_method",
    "instance",
    "_Feature"
   ],
   "window_display": false
  }
 },
 "nbformat": 4,
 "nbformat_minor": 2
}
