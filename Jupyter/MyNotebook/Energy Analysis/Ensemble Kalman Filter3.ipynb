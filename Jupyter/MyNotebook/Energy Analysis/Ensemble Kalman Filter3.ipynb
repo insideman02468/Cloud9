{
 "cells": [
  {
   "cell_type": "code",
   "execution_count": 1,
   "metadata": {
    "collapsed": false
   },
   "outputs": [
    {
     "name": "stdout",
     "output_type": "stream",
     "text": [
      "Populating the interactive namespace from numpy and matplotlib\n"
     ]
    }
   ],
   "source": [
    "import pandas as pd\n",
    "import numpy as np\n",
    "from numpy.random import *\n",
    "import datetime\n",
    "import math\n",
    "import os\n",
    "import matplotlib.pyplot as plt\n",
    "from pylab import rcParams\n",
    "\n",
    "plt.style.use('ggplot')\n",
    "%pylab inline --no-import-all\n",
    "\n",
    "def row(x):    #行\n",
    "    return x.reshape(1,-1)\n",
    "\n",
    "def column(x):     #列\n",
    "    return x.reshape(-1,1)\n",
    "\n",
    "def row2array(x):\n",
    "    return x[0,:]\n",
    "\n",
    "def column2array(x):\n",
    "    x=x.T\n",
    "    return x[0,:]\n",
    "\n",
    "def lorenz(x, t):   #列ベクトルをarrayに変換してからぶち込む\n",
    "    s = 10\n",
    "    R = 28\n",
    "    b = 8/3\n",
    "    \n",
    "    dx = np.array([-s*x[0]-x[1], R*x[0]-x[1]-x[0]*x[2], -b*x[2]+x[0]*x[1]])\n",
    "    \n",
    "    return dx\n",
    " \n",
    "def myoutput(x,t):   #xには、列ベクトルを入れること\n",
    "    \n",
    "    x=x + 0.1*np.random.normal(0, 1, (3, 1))\n",
    "    return column(x)\n"
   ]
  },
  {
   "cell_type": "markdown",
   "metadata": {},
   "source": [
    "##  Here, we perform estimation simulation using nonlinear dynamics called Lorenz equation."
   ]
  },
  {
   "cell_type": "markdown",
   "metadata": {},
   "source": [
    "$$\n",
    "    \\sigma = 10, r = 28, b = \\frac{8}{3}\n",
    "$$"
   ]
  },
  {
   "cell_type": "markdown",
   "metadata": {},
   "source": [
    "$$\n",
    "    {\\dot{x} = \\sigma(y-x)\\\\\n",
    "\\dot{y} = rx -y-z\\\\\n",
    "\\dot{z} = -bz + xy\n",
    "}\n",
    "$$"
   ]
  },
  {
   "cell_type": "code",
   "execution_count": 2,
   "metadata": {
    "collapsed": false
   },
   "outputs": [
    {
     "name": "stdout",
     "output_type": "stream",
     "text": [
      "(3, 1001)\n",
      "(1001,)\n",
      "(3, 1001)\n"
     ]
    },
    {
     "data": {
      "image/png": "[encoded data removed]",
      "text/plain": [
       "<matplotlib.figure.Figure at 0x7fb9c4e23f60>"
      ]
     },
     "metadata": {},
     "output_type": "display_data"
    }
   ],
   "source": [
    "#分散の初期設定\n",
    "Rtr = 0.3\n",
    "R = np.diag([0.5, 0.2, 0.1]) #3D\n",
    "Q = np.diag([2, 4, 3])  #3D\n",
    "dt = 0.01\n",
    "\n",
    "# 真値の計算\n",
    "t = np.linspace(0,10,10/dt+1,dtype=float)#時間　dt=0.01の間隔で0から10秒までの配列\n",
    "xtr0 = column(np.array([2, 10, 1]))#2D列 #真値の初期値、行列xtr0の1番目の行\n",
    "ytr0 = myoutput(xtr0,t[0])#2D_列#真値の出力\n",
    "w0 = np.dot(Q ,np.random.normal(0, 1, (3, 1)))\n",
    "\n",
    "xtr = xtr0\n",
    "ytr = ytr0 \n",
    "w = w0\n",
    "yt0 = myoutput(xtr0,t[0])#2D_列\n",
    "yt = yt0\n",
    "\n",
    "for i in range(1,len(t)):\n",
    "    k1 = lorenz(xtr[:,i-1], t[i-1] ) #array\n",
    "    k2 = lorenz(xtr[:,i-1] + dt*k1/2, t[i-1]+dt/2 )   #array\n",
    "    k3 = lorenz(xtr[:,i-1] +dt*k2/2, t[i-1]+dt/2)   #array\n",
    "    k4 = lorenz(xtr[:,i-1] +dt*k3,t[i-1]+dt)    #array\n",
    "    \n",
    "    w_i = np.dot(Q ,np.random.normal(0, 1, (3, 1)))#3x3と行ベクトルの内積で列ベクトルになる　\n",
    "    w = np.concatenate([w,w_i],axis=1)    \n",
    "    \n",
    "    xtr_i = column(xtr[:,i-1]  + dt* (k1+2*k2+2*k3+k4)/6 ) +column(w[:,i-1].T*dt)\n",
    "    xtr = np.concatenate([xtr,xtr_i],axis=1) #列を横に並べる\n",
    "\n",
    "    ytr_i = myoutput(column(xtr[:,i-1]),t[i-1])#2D_列\n",
    "    ytr = np.concatenate([ytr,ytr_i],axis=1) #列を横に並べる\n",
    "    \n",
    "    ###   観測値の計算   ###\n",
    "    yt_i = ytr_i+column(np.dot(R,np.random.normal(0, 1, (3, 1))))  \n",
    "    yt = np.concatenate([yt,yt_i],axis=1)    #3D_行\n",
    "    \n",
    "\n",
    "len_y = ytr.shape[0]\n",
    "len_x = ytr.shape[1]\n",
    "\n",
    "\n",
    "print(xtr.shape)\n",
    "print(t.shape)\n",
    "print(yt.shape)\n",
    "\n",
    "# 配列  をプロット\n",
    "plt.plot(t)\n",
    "plt.show()"
   ]
  },
  {
   "cell_type": "code",
   "execution_count": 3,
   "metadata": {
    "collapsed": false
   },
   "outputs": [
    {
     "name": "stdout",
     "output_type": "stream",
     "text": [
      "(3, 100)\n",
      "(3, 100)\n"
     ]
    }
   ],
   "source": [
    "#  EnKFの初期設定\n",
    "M = 100   #サンプルの数\n",
    "barx0 = column(np.array([2,10,1]))  #状態の初期値 2D_列\n",
    "P0 = np.diag([1, 3, 3])  #共分散行列の初期値  3D\n",
    "\n",
    "# アンサンブル行列X_0/tの作成\n",
    "x0=column(barx0) #2D_列\n",
    "# アンサンブル行列Y_0/tの作成\n",
    "y0 = myoutput( column(x0[:,0]), t[0])  \n",
    "for i in range(M-1):\n",
    "        x0_i=barx0 + np.dot(Q,np.random.normal(0, 1, (3, 1))) #2D_列　正規乱数\n",
    "        x0 = np.concatenate([x0,x0_i],axis=1) #3D_列\n",
    "        y0_i=myoutput( column(x0[:,0]), t[0]) + np.dot(Q,np.random.normal(0, 1, (3, 1))) \n",
    "        y0 = np.concatenate([y0,y0_i],axis=1) #3D_列\n",
    "\n",
    " \n",
    "\n",
    "\n",
    "print(x0.shape)\n",
    "print(y0.shape)"
   ]
  },
  {
   "cell_type": "code",
   "execution_count": 4,
   "metadata": {
    "collapsed": false
   },
   "outputs": [],
   "source": [
    "#Ensemble Kalman Filterの計算\n",
    "\n",
    "#誤差アンサンブル行列の作成\n",
    "\n",
    "yest=column(ytr[:,0])\n",
    "\n",
    "for i in range(len(t)-1):\n",
    "    x=np.array([[0],[0],[0]])\n",
    "    ### EnKF: 観測更新ステップ ###\n",
    "    xhat = column(numpy.sum(x0,axis=1) / M ) #2D_列\n",
    "    yhat = column(numpy.sum(y0,axis=1) / M ) #2D_列\n",
    "    yest_i = yhat\n",
    "    yest = np.concatenate([yest,yest_i],axis=1) #3D_列\n",
    "    Pxy = np.dot( (np.kron(np.eye(1,100),xhat) - x0), (np.kron(np.eye(1,100),yhat) - y0).T ) / (M-1)  #(3x3)  U 共分散行列\n",
    "    Pyy = np.dot( (np.kron(np.eye(1,100),yhat) - y0), (np.kron(np.eye(1,100),yhat) - y0).T ) / (M-1)  #(3x3)  V 共分散行列\n",
    "    K = np.dot(Pxy, np.linalg.inv(Pyy))     #np.linalg.inv(A) Aの逆行列 カルマンゲイン  #(3x3)\n",
    "    \n",
    "    ### EnKF: 予測更新ステップ  ###\n",
    "    for j in range(M-1):\n",
    "        x_j = column( x0[:,j] + np.dot(K, yt[:,i] - y0[:,j]) ) #2D_列\n",
    "        x = np.concatenate([x,x_j],axis=1) #3D_列\n",
    "        x0[:,j] = x[:,j] + column2array(row(lorenz(x[:,j], t[i])).T*dt +np.dot(Q,np.random.normal(0, 1, (3, 1))) * dt )  #array型\n",
    "        \n",
    "        y0[:,j] = column2array(  myoutput(column(x0[:,j]),t[i]) + np.dot(R, np.random.normal(0, 1, (3, 1)) ) )    #array型\n",
    "\n",
    "            "
   ]
  },
  {
   "cell_type": "code",
   "execution_count": 5,
   "metadata": {
    "collapsed": false
   },
   "outputs": [
    {
     "name": "stdout",
     "output_type": "stream",
     "text": [
      "(1001,)\n",
      "(3, 1001)\n",
      "(3, 1001)\n",
      "(3, 1001)\n"
     ]
    }
   ],
   "source": [
    "print(t.shape)  #(201,) tの真値\n",
    "print(xtr.shape)  #(3, 201) xの真値\n",
    "print(ytr.shape)  #(3, 201) yの真値\n",
    "print(yest.shape)  #(3, 201) yestの真値 #便宜上t=0　を挿入している。"
   ]
  },
  {
   "cell_type": "code",
   "execution_count": 6,
   "metadata": {
    "collapsed": false
   },
   "outputs": [
    {
     "data": {
      "text/html": [
       "<div>\n",
       "<table border=\"1\" class=\"dataframe\">\n",
       "  <thead>\n",
       "    <tr style=\"text-align: right;\">\n",
       "      <th></th>\n",
       "      <th>t</th>\n",
       "      <th>xtr1</th>\n",
       "      <th>xtr2</th>\n",
       "      <th>xtr3</th>\n",
       "      <th>yest1</th>\n",
       "      <th>yest2</th>\n",
       "      <th>yest3</th>\n",
       "      <th>ytr1</th>\n",
       "      <th>ytr2</th>\n",
       "      <th>ytr3</th>\n",
       "    </tr>\n",
       "  </thead>\n",
       "  <tbody>\n",
       "    <tr>\n",
       "      <th>0</th>\n",
       "      <td>0.00</td>\n",
       "      <td>2.000000</td>\n",
       "      <td>10.000000</td>\n",
       "      <td>1.000000</td>\n",
       "      <td>1.966381</td>\n",
       "      <td>9.985425</td>\n",
       "      <td>1.051569</td>\n",
       "      <td>1.966381</td>\n",
       "      <td>9.985425</td>\n",
       "      <td>1.051569</td>\n",
       "    </tr>\n",
       "    <tr>\n",
       "      <th>1</th>\n",
       "      <td>0.01</td>\n",
       "      <td>1.710720</td>\n",
       "      <td>10.328832</td>\n",
       "      <td>1.124891</td>\n",
       "      <td>1.887967</td>\n",
       "      <td>9.776137</td>\n",
       "      <td>1.228424</td>\n",
       "      <td>1.993662</td>\n",
       "      <td>9.885588</td>\n",
       "      <td>0.940118</td>\n",
       "    </tr>\n",
       "    <tr>\n",
       "      <th>2</th>\n",
       "      <td>0.02</td>\n",
       "      <td>1.444493</td>\n",
       "      <td>10.636276</td>\n",
       "      <td>1.200574</td>\n",
       "      <td>1.521522</td>\n",
       "      <td>11.353156</td>\n",
       "      <td>1.127589</td>\n",
       "      <td>1.834289</td>\n",
       "      <td>10.573695</td>\n",
       "      <td>1.127395</td>\n",
       "    </tr>\n",
       "    <tr>\n",
       "      <th>3</th>\n",
       "      <td>0.03</td>\n",
       "      <td>1.201663</td>\n",
       "      <td>10.897670</td>\n",
       "      <td>1.357650</td>\n",
       "      <td>1.211614</td>\n",
       "      <td>10.174119</td>\n",
       "      <td>0.979428</td>\n",
       "      <td>1.359913</td>\n",
       "      <td>10.648744</td>\n",
       "      <td>1.279789</td>\n",
       "    </tr>\n",
       "    <tr>\n",
       "      <th>4</th>\n",
       "      <td>0.04</td>\n",
       "      <td>1.005935</td>\n",
       "      <td>11.133881</td>\n",
       "      <td>1.372781</td>\n",
       "      <td>1.233284</td>\n",
       "      <td>10.322450</td>\n",
       "      <td>1.291197</td>\n",
       "      <td>1.141785</td>\n",
       "      <td>10.946815</td>\n",
       "      <td>1.302531</td>\n",
       "    </tr>\n",
       "    <tr>\n",
       "      <th>5</th>\n",
       "      <td>0.05</td>\n",
       "      <td>0.797081</td>\n",
       "      <td>11.302014</td>\n",
       "      <td>1.481265</td>\n",
       "      <td>0.976155</td>\n",
       "      <td>10.505504</td>\n",
       "      <td>1.360067</td>\n",
       "      <td>0.948467</td>\n",
       "      <td>11.248883</td>\n",
       "      <td>1.411540</td>\n",
       "    </tr>\n",
       "    <tr>\n",
       "      <th>6</th>\n",
       "      <td>0.06</td>\n",
       "      <td>0.644516</td>\n",
       "      <td>11.432398</td>\n",
       "      <td>1.500364</td>\n",
       "      <td>0.840259</td>\n",
       "      <td>11.097494</td>\n",
       "      <td>1.444077</td>\n",
       "      <td>0.769000</td>\n",
       "      <td>11.357751</td>\n",
       "      <td>1.485584</td>\n",
       "    </tr>\n",
       "    <tr>\n",
       "      <th>7</th>\n",
       "      <td>0.07</td>\n",
       "      <td>0.494546</td>\n",
       "      <td>11.417284</td>\n",
       "      <td>1.533738</td>\n",
       "      <td>0.548536</td>\n",
       "      <td>11.297325</td>\n",
       "      <td>1.467323</td>\n",
       "      <td>0.570727</td>\n",
       "      <td>11.373195</td>\n",
       "      <td>1.357634</td>\n",
       "    </tr>\n",
       "    <tr>\n",
       "      <th>8</th>\n",
       "      <td>0.08</td>\n",
       "      <td>0.354857</td>\n",
       "      <td>11.422876</td>\n",
       "      <td>1.561055</td>\n",
       "      <td>0.521306</td>\n",
       "      <td>11.344057</td>\n",
       "      <td>1.550145</td>\n",
       "      <td>0.489078</td>\n",
       "      <td>11.474552</td>\n",
       "      <td>1.469596</td>\n",
       "    </tr>\n",
       "    <tr>\n",
       "      <th>9</th>\n",
       "      <td>0.09</td>\n",
       "      <td>0.226718</td>\n",
       "      <td>11.442460</td>\n",
       "      <td>1.566493</td>\n",
       "      <td>0.297499</td>\n",
       "      <td>11.487132</td>\n",
       "      <td>1.538007</td>\n",
       "      <td>0.306898</td>\n",
       "      <td>11.461235</td>\n",
       "      <td>1.625765</td>\n",
       "    </tr>\n",
       "  </tbody>\n",
       "</table>\n",
       "</div>"
      ],
      "text/plain": [
       "      t      xtr1       xtr2      xtr3     yest1      yest2     yest3  \\\n",
       "0  0.00  2.000000  10.000000  1.000000  1.966381   9.985425  1.051569   \n",
       "1  0.01  1.710720  10.328832  1.124891  1.887967   9.776137  1.228424   \n",
       "2  0.02  1.444493  10.636276  1.200574  1.521522  11.353156  1.127589   \n",
       "3  0.03  1.201663  10.897670  1.357650  1.211614  10.174119  0.979428   \n",
       "4  0.04  1.005935  11.133881  1.372781  1.233284  10.322450  1.291197   \n",
       "5  0.05  0.797081  11.302014  1.481265  0.976155  10.505504  1.360067   \n",
       "6  0.06  0.644516  11.432398  1.500364  0.840259  11.097494  1.444077   \n",
       "7  0.07  0.494546  11.417284  1.533738  0.548536  11.297325  1.467323   \n",
       "8  0.08  0.354857  11.422876  1.561055  0.521306  11.344057  1.550145   \n",
       "9  0.09  0.226718  11.442460  1.566493  0.297499  11.487132  1.538007   \n",
       "\n",
       "       ytr1       ytr2      ytr3  \n",
       "0  1.966381   9.985425  1.051569  \n",
       "1  1.993662   9.885588  0.940118  \n",
       "2  1.834289  10.573695  1.127395  \n",
       "3  1.359913  10.648744  1.279789  \n",
       "4  1.141785  10.946815  1.302531  \n",
       "5  0.948467  11.248883  1.411540  \n",
       "6  0.769000  11.357751  1.485584  \n",
       "7  0.570727  11.373195  1.357634  \n",
       "8  0.489078  11.474552  1.469596  \n",
       "9  0.306898  11.461235  1.625765  "
      ]
     },
     "execution_count": 6,
     "metadata": {},
     "output_type": "execute_result"
    }
   ],
   "source": [
    "df = pd.DataFrame({ 't' : t ,\n",
    "                    'xtr1' : xtr[0,:],\n",
    "                    'xtr2' : xtr[1,:],\n",
    "                    'xtr3' : xtr[2,:],\n",
    "                    'ytr1' : ytr[0,:],\n",
    "                    'ytr2' : ytr[1,:],\n",
    "                    'ytr3' : ytr[2,:],\n",
    "                    'yest1' : yest[0,:],\n",
    "                    'yest2' : yest[1,:],\n",
    "                    'yest3' : yest[2,:],\n",
    "                  })\n",
    "df[:10]"
   ]
  }
 ],
 "metadata": {
  "kernelspec": {
   "display_name": "Python 3",
   "language": "python",
   "name": "python3"
  },
  "language_info": {
   "codemirror_mode": {
    "name": "ipython",
    "version": 3
   },
   "file_extension": ".py",
   "mimetype": "text/x-python",
   "name": "python",
   "nbconvert_exporter": "python",
   "pygments_lexer": "ipython3",
   "version": "3.5.4"
  },
  "varInspector": {
   "cols": {
    "lenName": 16,
    "lenType": 16,
    "lenVar": 40
   },
   "kernels_config": {
    "python": {
     "delete_cmd_postfix": "",
     "delete_cmd_prefix": "del ",
     "library": "var_list.py",
     "varRefreshCmd": "print(var_dic_list())"
    },
    "r": {
     "delete_cmd_postfix": ") ",
     "delete_cmd_prefix": "rm(",
     "library": "var_list.r",
     "varRefreshCmd": "cat(var_dic_list()) "
    }
   },
   "types_to_exclude": [
    "module",
    "function",
    "builtin_function_or_method",
    "instance",
    "_Feature"
   ],
   "window_display": false
  }
 },
 "nbformat": 4,
 "nbformat_minor": 2
}
