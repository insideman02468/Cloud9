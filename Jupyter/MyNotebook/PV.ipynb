{
 "cells": [
  {
   "cell_type": "code",
   "execution_count": 1,
   "metadata": {
    "collapsed": false
   },
   "outputs": [],
   "source": [
    "import pandas as pd\n",
    "import numpy as np\n",
    "import datetime\n",
    "import os\n",
    "\n",
    "#記号は基本　規定値かndarray 行数は8760で処理\n",
    "\n",
    "#有効数字2桁\n",
    "%precision 2\n",
    "\n",
    "\n",
    "\n",
    "#太陽光発電初期値\n",
    "\n",
    "#インプットデータ\n",
    "input_data = pd.read_csv('hakata_ekimae_2017_data_from_meteoblue.csv') #データ1\n",
    "        #the global horizontal radiation on the earth's surface averaged over the time step [MJ/m2]\n",
    "input_rad = pd.read_csv('rad.csv')#encordingはUTF-8なので注意 unitは、MJ/m2\n",
    "input_csv_parameter = pd.read_csv('PV_input_parameter.csv')\n",
    "\n",
    "#1列目以外を抽出\n",
    "input_csv_parameter = input_csv_parameter.iloc[:, [1,2,3,4,5,6,7,8,9,10,11,12,13,14,15,16,17,18]]\n",
    "\n",
    "Gsc = float(input_csv_parameter.iat[0,0])#float(1.367)#the solar constant [1.367 kW/m2]\n",
    "Gt_NOCT = float(input_csv_parameter.iat[0,1]) #the solar radiation at which the NOCT is defined [0.8 kW/m2]\n",
    "Ta_NOCT = float(input_csv_parameter.iat[0,2])#the ambient temperature at which the NOCT is defined [20°C]\n",
    "Tc_NOCT = float(input_csv_parameter.iat[0,3]) #the nominal operating cell temperature [°C]\n",
    "Tc_STC = float(input_csv_parameter.iat[0,4]) #the PV cell temperature under standard test conditions [25°C]\n",
    "\n",
    "YPV = float(input_csv_parameter.iat[0,6]) #the rated capacity of the PV array, meaning its power output under standard test conditions [kW]\n",
    "ap = float(input_csv_parameter.iat[0,7]) #Module Efficiency(Pmax)[%/℃]\n",
    "beta= float(input_csv_parameter.iat[0,8])  #the slope of the surface [°]\n",
    "eta_c = float(input_csv_parameter.iat[0,9]) #the solar absorptance and the solar transmittance[%]\n",
    "fpv = float(input_csv_parameter.iat[0,10]) #the PV derating factor [%]\n",
    "ganma = float(input_csv_parameter.iat[0,11]) #the azimuth of the surface [°]\n",
    "lam=float(input_csv_parameter.iat[0,12])#the latitude [°]\n",
    "phi=float(input_csv_parameter.iat[0,13])\n",
    "rho_g = float(input_csv_parameter.iat[0,14]) # the ground reflectance, which is also called the albedo [%]\n",
    "tau_a = float(input_csv_parameter.iat[0,15]) #the solar absorptance and the solar transmittance[%]\n",
    "_Gt_STC =float(1) #the incident radiation at standard test conditions [1 kW/m2]\n",
    "UL = tau_a*Gt_NOCT/(Tc_NOCT-Ta_NOCT)\n",
    "total_cost = float(input_csv_parameter.iat[0,16]) #total cost\n",
    "Op_year = float(input_csv_parameter.iat[0,17]) #oparation year\n",
    "cost = total_cost/(Op_year*365*24)#cost[yen/kW/h]\n",
    "#列名の変更\n",
    "input_data.columns = ['Year', 'Month', 'Day','Hour', 'Minute','Temperature(2m)', 'Mean Sea Level Pressure[hpa]', \\\n",
    "                          'Shortwave Radiation[W/m2]','Wind Speed(10m)[m/s]','Wind Direction(10m)' ,'Wind Speed(80m)[m/s]'\\\n",
    "                  , 'Wind Direction(80m)']\n",
    "\n",
    "#日付型などの変更\n",
    "input_data['Date'] = input_data[['Year', 'Month', 'Day']].apply(lambda x: '{}@{}@{}'.format(x[0], x[1], x[2]), axis=1)\n",
    "Date = input_data['Date']\n",
    "input_data['Date'] =pd.to_datetime(Date, format='%Y@%m@%d')\n",
    "\n",
    "input_data['Time'] = input_data[['Year', 'Month', 'Day','Hour']].apply(lambda x: '{}@{}@{}@{}'.format(x[0], x[1], x[2],x[3]), axis=1)\n",
    "Time = input_data['Time']\n",
    "input_data['Time'] =pd.to_datetime(Time, format='%Y@%m@%d@%H')\n",
    "\n",
    "### nの作成\n",
    "\n",
    "def date0():\n",
    "    n  = []  # 結果を入れるリストを用意\n",
    "    day = 1\n",
    "    j = 0\n",
    "    for num in range(24):\n",
    "        if j == 24:\n",
    "            day +=1\n",
    "            j=0\n",
    "        else:\n",
    "            j +=1\n",
    "        n.append(day)  # 結果を追加\n",
    "    return n  # 結果のリストを返す\n",
    "\n",
    "def date1():\n",
    "    n  = []  # 結果を入れるリストを用意\n",
    "    day = 2\n",
    "    j = 0\n",
    "    for num in range(len(input_data)-24):\n",
    "        if j == 24:\n",
    "            day +=1\n",
    "            j=1\n",
    "        else:\n",
    "            j +=1\n",
    "        n.append(day)  # 結果を追加\n",
    "    return n  # 結果のリストを返す\n",
    "\n",
    "n0 = date0()\n",
    "n1 = date1()\n",
    "n0\n",
    "n0.extend(n1)#リストn0にn1を合体\n",
    "\n",
    "input_data['n']  = pd.Series(np.array(n0))\n",
    "\n",
    "### nの作成完了\n",
    "\n",
    "    #列の順番変更\n",
    "        #lst = input_data.columns.tolist()\n",
    "        #lst.remove('Date')\n",
    "        #lst.remove('Time')\n",
    "        #lst.remove('n')\n",
    "        #lst.insert(0, 'Time')\n",
    "        #lst.insert(1, 'Date')\n",
    "        #lst.insert(8, 'n') "
   ]
  },
  {
   "cell_type": "code",
   "execution_count": 2,
   "metadata": {
    "collapsed": false
   },
   "outputs": [],
   "source": [
    "#ωの計算\n",
    "input_data['ts'] = input_data['Hour']\n",
    "input_data['ω'] = (input_data['ts'].values - 12 )*15\n",
    "omega = input_data['ω'].values\n",
    "\n",
    "#Bの計算\n",
    "input_data['B'] = 360*((input_data['n'].values - 1) / 365)\n",
    "\n",
    "#Eup\n",
    "input_data['Eup'] = 3.82*(0.000075+0.001868*np.cos(input_data['B'].values)\\\n",
    "                             -0.032077*np.sin(input_data['B'].values))\n",
    "#Ebottom\n",
    "input_data['Ebottom'] = 3.82*(-0.014615*np.cos(2*input_data['B'].values)\\\n",
    "                             -0.04089*np.sin(2*input_data['B'].values))\n",
    "#δの計算\n",
    "input_data['δ the solar declination']=23.45*np.sin(360*(284+input_data['n'].values)/365)\n",
    "\n",
    "delta=input_data['δ the solar declination'].values\n",
    "\n",
    "#cosθの計算\n",
    "input_data['cosθ'] = np.sin(delta)*np.sin(phi)*np.cos(beta)\\\n",
    "                    -np.sin(delta)*np.cos(phi)*np.sin(beta)*np.cos(ganma)\\\n",
    "                    +np.cos(delta)*np.cos(phi)*np.cos(beta)*np.cos(omega)\\\n",
    "                    +np.cos(delta)*np.sin(phi)*np.sin(beta)*np.cos(ganma)*np.cos(omega)\\\n",
    "                    +np.cos(delta)*np.sin(beta)*np.sin(ganma)*np.sin(omega)\n",
    "                    \n",
    "cos_theta = input_data['cosθ'].values\n",
    "                \n",
    "#θの計算\n",
    "input_data['θ(radian)'] = np.arccos(input_data['cosθ'].values)\n",
    "\n",
    "input_data['θ(degree)'] = np.rad2deg(input_data['θ(radian)'].values)\n",
    "\n",
    "#cosθzの計算\n",
    "input_data['cosθz'] =np.cos(phi)*np.cos(delta)*np.cos(omega)\\\n",
    "                        +np.sin(phi)*np.sin(delta)\n",
    "\n",
    "cos_theta_z = input_data['cosθz'].values\n",
    "\n",
    "input_data['θz(radian)'] = np.arccos(input_data['cosθz'].values)\n",
    "\n",
    "input_data['θz(degree)'] = np.rad2deg(input_data['θz(radian)'].values)\n",
    "\n",
    "#theta degree ndarray\n",
    "theta = input_data['θ(degree)'].values\n",
    "\n",
    "#theta degree ndarray\n",
    "theta_z = input_data['θz(degree)'].values"
   ]
  },
  {
   "cell_type": "code",
   "execution_count": 3,
   "metadata": {
    "collapsed": false
   },
   "outputs": [],
   "source": [
    "#Gon(the extraterrestrial normal radiation)[kW/m2]の計算\n",
    "input_data['Gon(the extraterrestrial normal radiation)[kW/m2]'] \\\n",
    "=Gsc*(1+0.033*np.cos(360*input_data['n'].values/365))\n",
    "\n",
    "_Gon =input_data['Gon(the extraterrestrial normal radiation)[kW/m2]'].values\n",
    "\n",
    "#Go(the extraterrestrial horizontal radiation [kW/m2])の計算\n",
    "input_data['Go(the extraterrestrial horizontal radiation)[kW/m2]'] \\\n",
    "=_Gon*np.abs(cos_theta_z)\n",
    "\n",
    "Go = input_data['Go(the extraterrestrial horizontal radiation)[kW/m2]'] .values"
   ]
  },
  {
   "cell_type": "code",
   "execution_count": 4,
   "metadata": {
    "collapsed": false
   },
   "outputs": [],
   "source": [
    "#_Go(the extraterrestrial horizontal radiation averaged over the time step )[kW/m2]の計算\n",
    "\n",
    "def step_minus(x):  #再帰関数　引数[2]-引数[1] ndarrayで返す ndarrayを引数\n",
    "    x = list(x)\n",
    "    y = [0]\n",
    "    y.extend(x) #引数2\n",
    "    x.extend([0]) #引数1\n",
    "    y = np.array(y)\n",
    "    x = np.array(x)\n",
    "    ans = y - x\n",
    "    return ans[1:]\n",
    "\n",
    "\n",
    "input_data['_Go(the extraterrestrial horizontal radiation averaged over the time step )[kW/m2]'] \\\n",
    "=(12/np.pi)*_Gon*np.abs(np.cos(phi)*np.cos(delta)*step_minus(np.sin(omega))\\\n",
    "+(np.pi/180)*step_minus(omega)*np.sin(phi)*np.sin(delta))\n",
    "\n",
    "_Go = input_data['_Go(the extraterrestrial horizontal radiation averaged over the time step )[kW/m2]'] \n",
    "\n",
    "#_G または　input_radの処理\n",
    "    #欠損値を0で置き換える\n",
    "input_rad = input_rad.fillna(0)\n",
    "input_rad = input_rad.drop(8760)\n",
    "\n",
    "    #input_radをMJ2kW\n",
    "input_data['the global horizontal radiation[kW/m2]']=\\\n",
    "input_rad['the global horizontal radiation(MJ/㎡)'].values/3.6\n",
    "\n",
    "_G = input_data['the global horizontal radiation[kW/m2]'].values"
   ]
  },
  {
   "cell_type": "code",
   "execution_count": 5,
   "metadata": {
    "collapsed": false
   },
   "outputs": [],
   "source": [
    "#ktの計算\n",
    "input_data['kt(the clearness index)'] =_G/Go\n",
    "kt = input_data['kt(the clearness index)'].values\n",
    "\n",
    "#_Gdの計算\n",
    "\n",
    "def if_kt(x):\n",
    "    \n",
    "    ans = np.where(x < 0.22, 1-0.09*x, \\\n",
    "             np.where(x > 0.8, 0.165, 0.95511-0.1604*x+4.388*x**2-16.638*x**3+12.336*x**4))\n",
    "    return ans\n",
    "\n",
    "input_data['_Gd(the diffuse radiation)[kW/m2]']=_G*if_kt(kt)\n",
    "_Gd = input_data['_Gd(the diffuse radiation)[kW/m2]'].values\n",
    "\n",
    "#_Gb(the beam radiation)の計算\n",
    "input_data['_Gb(the beam radiation)[kW/m2]']=_G-_Gd\n",
    "\n",
    "_Gb = input_data['_Gb(the beam radiation)[kW/m2]'].values"
   ]
  },
  {
   "cell_type": "code",
   "execution_count": 6,
   "metadata": {
    "collapsed": false
   },
   "outputs": [],
   "source": [
    "#Rbの計算\n",
    "input_data['Rb']=cos_theta/cos_theta_z\n",
    "\n",
    "Rb = input_data['Rb'].values\n",
    "\n",
    "#Afの計算\n",
    "input_data['Af']=_Gb/_Go\n",
    "\n",
    "Af = input_data['Af'].values\n",
    "\n",
    "#fの計算\n",
    "input_data['f']=np.sqrt(_Gb/_G)\n",
    "    #欠損値を0で置き換える\n",
    "input_data=input_data.fillna(0)\n",
    "f = input_data['f'].values"
   ]
  },
  {
   "cell_type": "code",
   "execution_count": 7,
   "metadata": {
    "collapsed": false
   },
   "outputs": [],
   "source": [
    "#_Gtの計算\n",
    "input_data['_Gt']=(_Gb+_Gd*Af)*Rb\\\n",
    "                +_Gd*(1-Af)*((1+np.cos(beta)/2))*(1+f*np.sin(beta/2)**3)\\\n",
    "                +_G*rho_g*((1-np.cos(beta))/2)\n",
    "_Gt= input_data['_Gt'].values     "
   ]
  },
  {
   "cell_type": "code",
   "execution_count": 8,
   "metadata": {
    "collapsed": false
   },
   "outputs": [],
   "source": [
    "#Tc(the PV cell temperature [°C])の計算\n",
    "Ta = input_data['Temperature(2m)'].values\n",
    "input_data['Tc(the PV cell temperature)[°C]']\\\n",
    "= Ta+_Gt*(tau_a/UL)*(1-eta_c/tau_a)\n",
    "\n",
    "Tc = input_data['Tc(the PV cell temperature)[°C]'].values\n",
    "\n",
    "#Ppv(the output of the PV array)[kW]の計算\n",
    "input_data['Ppv(the output of the PV array)[kW]']\\\n",
    "=YPV*fpv*(_Gt/_Gt_STC)*(1+ap*(Tc-Tc_STC))\n",
    "\n",
    "Ppv = input_data['Ppv(the output of the PV array)[kW]'].values"
   ]
  },
  {
   "cell_type": "code",
   "execution_count": 9,
   "metadata": {
    "collapsed": false
   },
   "outputs": [],
   "source": [
    "#入力初期値をデータフレームにする。\n",
    "input_parameter_name=['Gsc','Gt_NOCT','Ta_NOCT','Tc_NOCT','Tc_STC','UL',\\\n",
    "                      'YPV','ap','beta','eta_c','fpv','ganma','lam','phi',\\\n",
    "                      'rho_g','tau_a','total_cost','Op_year','cost']\n",
    "\n",
    "input_parameter_list=[Gsc,Gt_NOCT,Ta_NOCT,Tc_NOCT,Tc_STC,UL,\\\n",
    "                      YPV,ap,beta,eta_c,fpv,ganma,lam,phi,\\\n",
    "                      rho_g,tau_a,total_cost,Op_year,cost]\n",
    "\n",
    "def float2DataFrame(name,list):\n",
    "    df0=pd.DataFrame({str(name[0]): [list[0]]})\n",
    "    for i in range(len(list)-1):\n",
    "        a = float(list[i+1])\n",
    "        df=pd.DataFrame({str(name[i+1]): [a]})\n",
    "        df0 =pd.concat([df0, df], axis=1)\n",
    "    return df0\n",
    "\n",
    "input_parameter=float2DataFrame(input_parameter_name,input_parameter_list)\n"
   ]
  },
  {
   "cell_type": "code",
   "execution_count": 10,
   "metadata": {
    "collapsed": false
   },
   "outputs": [],
   "source": [
    "#データの書き出し\n",
    "input_data.to_csv('PV_result.csv',encoding=\"shift_jis\")   \n",
    "input_parameter.to_csv('PV_input_parameter_result.csv',encoding=\"shift_jis\")  "
   ]
  }
 ],
 "metadata": {
  "kernelspec": {
   "display_name": "Python 3",
   "language": "python",
   "name": "python3"
  },
  "language_info": {
   "codemirror_mode": {
    "name": "ipython",
    "version": 3
   },
   "file_extension": ".py",
   "mimetype": "text/x-python",
   "name": "python",
   "nbconvert_exporter": "python",
   "pygments_lexer": "ipython3",
   "version": "3.5.1"
  },
  "varInspector": {
   "cols": {
    "lenName": 16,
    "lenType": 16,
    "lenVar": 40
   },
   "kernels_config": {
    "python": {
     "delete_cmd_postfix": "",
     "delete_cmd_prefix": "del ",
     "library": "var_list.py",
     "varRefreshCmd": "print(var_dic_list())"
    },
    "r": {
     "delete_cmd_postfix": ") ",
     "delete_cmd_prefix": "rm(",
     "library": "var_list.r",
     "varRefreshCmd": "cat(var_dic_list()) "
    }
   },
   "position": {
    "height": "653px",
    "left": "1550px",
    "right": "20px",
    "top": "120px",
    "width": "350px"
   },
   "types_to_exclude": [
    "module",
    "function",
    "builtin_function_or_method",
    "instance",
    "_Feature"
   ],
   "window_display": true
  }
 },
 "nbformat": 4,
 "nbformat_minor": 2
}
