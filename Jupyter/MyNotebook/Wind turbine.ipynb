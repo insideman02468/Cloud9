{
 "cells": [
  {
   "cell_type": "code",
   "execution_count": 1,
   "metadata": {
    "collapsed": false
   },
   "outputs": [],
   "source": [
    "import pandas as pd\n",
    "import numpy as np\n",
    "\n",
    "#有効数字2桁\n",
    "%precision 3\n",
    "\n",
    "#風力発電初期値\n",
    "Pr=2.3 #定格電力\n",
    "V_CIN=2.5 #カットイン風速\n",
    "V_rat=20 #\n",
    "V_CO=20 #カットアウト風速\n",
    "H=30.5 #高さ\n",
    "H_top=80 #風速計測の高さ（高い）\n",
    "H_ref=10 #風速計測の高さ（低い）\n",
    "atm_pre0=1.225 #基準大気圧\n",
    "\n",
    "#インプットデータ\n",
    "input_data = pd.read_csv('hakata_ekimae_2017_data_from_meteoblue.csv')\n",
    "#temp = temp.drop(\"気温(℃).1\",axis=1)\n",
    "#temp = temp.drop(\"気温(℃).2\" ,axis=1)\n",
    "\n",
    "#列名の変更\n",
    "input_data.columns = ['Year', 'Month', 'Day','Hour', 'Minute','Temperature(2m)', 'Mean Sea Level Pressure[hpa]', \\\n",
    "                      'Shortwave Radiation[W/m2]','Wind Speed(10m)[m/s]','Wind Direction(10m)' ,'Wind Speed(80m)[m/s]'\\\n",
    "              , 'Wind Direction(80m)']\n",
    "\n",
    "#日付型などの変更\n",
    "input_data['Date'] = input_data[['Year', 'Month', 'Day']].apply(lambda x: '{}@{}@{}'.format(x[0], x[1], x[2]), axis=1)\n",
    "Date = input_data['Date']\n",
    "input_data['Date'] =pd.to_datetime(Date, format='%Y@%m@%d')\n",
    "\n",
    "input_data['Time'] = input_data[['Year', 'Month', 'Day','Hour']].apply(lambda x: '{}@{}@{}@{}'.format(x[0], x[1], x[2],x[3]), axis=1)\n",
    "Time = input_data['Time']\n",
    "input_data['Time'] =pd.to_datetime(Time, format='%Y@%m@%d@%H')\n",
    "\n",
    "    #列の順番変更\n",
    "    #lst = input_data.columns.tolist()\n",
    "    #lst.remove('Date')\n",
    "    #lst.remove('Time')\n",
    "    #lst.insert(0, 'Time')\n",
    "    #lst.insert(1, 'Date')"
   ]
  },
  {
   "cell_type": "code",
   "execution_count": 2,
   "metadata": {
    "collapsed": false
   },
   "outputs": [],
   "source": [
    "V_COE = np.log(input_data['Wind Speed(80m)[m/s]']/input_data['Wind Speed(10m)[m/s]'])\\\n",
    "    /np.log(H_top/H_ref)\n",
    "\n",
    "\n",
    "input_data['V_COE[power law]']=V_COE\n",
    "input_data['ρ(air dencity)']=input_data['Mean Sea Level Pressure[hpa]'] / (2.87*273.15+2.87*input_data['Temperature(2m)'])\n",
    "input_data['Wind Speed('+str(H)+')[m/s]']=input_data['Wind Speed(10m)[m/s]'] *(H / H_ref)**V_COE"
   ]
  },
  {
   "cell_type": "code",
   "execution_count": 3,
   "metadata": {
    "collapsed": false
   },
   "outputs": [],
   "source": [
    "wind30_values =input_data['Wind Speed('+str(H)+')[m/s]']\n",
    "\n",
    "Pwt=(np.where((V_rat<=wind30_values) & (wind30_values <= V_CO), Pr,\\\n",
    "              np.where((V_CIN<=wind30_values) & (wind30_values <= V_rat), \\\n",
    "                       Pr*(wind30_values-V_CIN)/(V_rat-V_CIN),0 )))\n",
    "#Pwt_STP\n",
    "Pwt_STP=(atm_pre0/input_data['ρ(air dencity)'].values)*Pwt\n",
    "\n",
    "input_data['Pwt[kW]']= pd.Series(Pwt)\n",
    "input_data['Pwt_STP[kW]']= pd.Series(Pwt_STP)\n",
    "\n",
    "#よく使う列だけ表示\n",
    "dis = input_data.columns.tolist()\n",
    "dis = ['Time','Pwt', 'Temperature(2m)','Wind Speed('+str(H)+')[m/s]', 'Mean Sea Level Pressure[hpa]','ρ(air dencity)',\\\n",
    "       'Shortwave Radiation[W/m2]', 'Wind Speed(10m)[m/s]',\\\n",
    "       'Wind Speed(80m)[m/s]','V_COE[power law]','Pwt_STP']\n",
    "\n",
    "input_data.to_csv('Wind_result.csv',encoding=\"shift_jis\")   "
   ]
  }
 ],
 "metadata": {
  "kernelspec": {
   "display_name": "Python 3",
   "language": "python",
   "name": "python3"
  },
  "language_info": {
   "codemirror_mode": {
    "name": "ipython",
    "version": 3
   },
   "file_extension": ".py",
   "mimetype": "text/x-python",
   "name": "python",
   "nbconvert_exporter": "python",
   "pygments_lexer": "ipython3",
   "version": "3.5.1"
  }
 },
 "nbformat": 4,
 "nbformat_minor": 1
}
