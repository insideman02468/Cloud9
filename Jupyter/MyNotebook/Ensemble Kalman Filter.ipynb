{
 "cells": [
  {
   "cell_type": "code",
   "execution_count": 1,
   "metadata": {
    "collapsed": false
   },
   "outputs": [
    {
     "name": "stdout",
     "output_type": "stream",
     "text": [
      "Populating the interactive namespace from numpy and matplotlib\n"
     ]
    }
   ],
   "source": [
    "import pandas as pd\n",
    "import numpy as np\n",
    "from numpy.random import *\n",
    "import datetime\n",
    "import math\n",
    "import os\n",
    "import matplotlib.pyplot as plt\n",
    "from pylab import rcParams\n",
    "\n",
    "plt.style.use('ggplot')\n",
    "%pylab inline --no-import-all\n",
    "\n",
    "def lorenz(x,t):\n",
    "    s = 10\n",
    "    R = 28\n",
    "    b = 8/3\n",
    "    \n",
    "    dx = np.array([-s*x[0]-x[1], R*x[0]-x[1]-x[2], -b*x[2]+np.dot(x[0],x[1])])\n",
    "    return dx\n",
    " \n",
    "def myoutput(x,t):\n",
    "    return x.transpose()"
   ]
  },
  {
   "cell_type": "code",
   "execution_count": 4,
   "metadata": {
    "collapsed": false
   },
   "outputs": [
    {
     "name": "stderr",
     "output_type": "stream",
     "text": [
      "/home/ec2-user/.pyenv/versions/anaconda3-4.0.0/lib/python3.5/site-packages/ipykernel/__main__.py:20: DeprecationWarning: using a non-integer number instead of an integer will result in an error in the future\n",
      "/home/ec2-user/.pyenv/versions/anaconda3-4.0.0/lib/python3.5/site-packages/ipykernel/__main__.py:21: DeprecationWarning: using a non-integer number instead of an integer will result in an error in the future\n",
      "/home/ec2-user/.pyenv/versions/anaconda3-4.0.0/lib/python3.5/site-packages/ipykernel/__main__.py:22: DeprecationWarning: using a non-integer number instead of an integer will result in an error in the future\n",
      "/home/ec2-user/.pyenv/versions/anaconda3-4.0.0/lib/python3.5/site-packages/ipykernel/__main__.py:23: DeprecationWarning: using a non-integer number instead of an integer will result in an error in the future\n",
      "/home/ec2-user/.pyenv/versions/anaconda3-4.0.0/lib/python3.5/site-packages/ipykernel/__main__.py:24: DeprecationWarning: using a non-integer number instead of an integer will result in an error in the future\n",
      "/home/ec2-user/.pyenv/versions/anaconda3-4.0.0/lib/python3.5/site-packages/ipykernel/__main__.py:25: DeprecationWarning: using a non-integer number instead of an integer will result in an error in the future\n",
      "/home/ec2-user/.pyenv/versions/anaconda3-4.0.0/lib/python3.5/site-packages/ipykernel/__main__.py:28: DeprecationWarning: using a non-integer number instead of an integer will result in an error in the future\n"
     ]
    },
    {
     "ename": "ValueError",
     "evalue": "all the input array dimensions except for the concatenation axis must match exactly",
     "output_type": "error",
     "traceback": [
      "\u001b[1;31m---------------------------------------------------------------------------\u001b[0m",
      "\u001b[1;31mValueError\u001b[0m                                Traceback (most recent call last)",
      "\u001b[1;32m<ipython-input-4-378bed2955df>\u001b[0m in \u001b[0;36m<module>\u001b[1;34m()\u001b[0m\n\u001b[0;32m     30\u001b[0m \u001b[1;33m\u001b[0m\u001b[0m\n\u001b[0;32m     31\u001b[0m     \u001b[0mytr\u001b[0m \u001b[1;33m=\u001b[0m \u001b[0mnp\u001b[0m\u001b[1;33m.\u001b[0m\u001b[0mconcatenate\u001b[0m\u001b[1;33m(\u001b[0m\u001b[1;33m[\u001b[0m\u001b[0mytr\u001b[0m\u001b[1;33m.\u001b[0m\u001b[0mreshape\u001b[0m\u001b[1;33m(\u001b[0m\u001b[1;33m-\u001b[0m\u001b[1;36m1\u001b[0m\u001b[1;33m,\u001b[0m\u001b[1;36m1\u001b[0m\u001b[1;33m)\u001b[0m\u001b[1;33m,\u001b[0m\u001b[0mytr_t\u001b[0m\u001b[1;33m.\u001b[0m\u001b[0mreshape\u001b[0m\u001b[1;33m(\u001b[0m\u001b[1;33m-\u001b[0m\u001b[1;36m1\u001b[0m\u001b[1;33m,\u001b[0m\u001b[1;36m1\u001b[0m\u001b[1;33m)\u001b[0m\u001b[1;33m]\u001b[0m\u001b[1;33m,\u001b[0m\u001b[0maxis\u001b[0m\u001b[1;33m=\u001b[0m\u001b[1;36m1\u001b[0m\u001b[1;33m)\u001b[0m\u001b[1;33m\u001b[0m\u001b[0m\n\u001b[1;32m---> 32\u001b[1;33m     \u001b[0myt\u001b[0m \u001b[1;33m=\u001b[0m  \u001b[0mnp\u001b[0m\u001b[1;33m.\u001b[0m\u001b[0mconcatenate\u001b[0m\u001b[1;33m(\u001b[0m\u001b[1;33m[\u001b[0m\u001b[0myt\u001b[0m\u001b[1;33m.\u001b[0m\u001b[0mreshape\u001b[0m\u001b[1;33m(\u001b[0m\u001b[1;33m-\u001b[0m\u001b[1;36m1\u001b[0m\u001b[1;33m,\u001b[0m\u001b[1;36m1\u001b[0m\u001b[1;33m)\u001b[0m\u001b[1;33m,\u001b[0m\u001b[0myt_t\u001b[0m\u001b[1;33m.\u001b[0m\u001b[0mreshape\u001b[0m\u001b[1;33m(\u001b[0m\u001b[1;33m-\u001b[0m\u001b[1;36m1\u001b[0m\u001b[1;33m,\u001b[0m\u001b[1;36m1\u001b[0m\u001b[1;33m)\u001b[0m\u001b[1;33m]\u001b[0m\u001b[1;33m,\u001b[0m\u001b[0maxis\u001b[0m\u001b[1;33m=\u001b[0m\u001b[1;36m1\u001b[0m\u001b[1;33m)\u001b[0m\u001b[1;33m\u001b[0m\u001b[0m\n\u001b[0m\u001b[0;32m     33\u001b[0m     \u001b[0mi\u001b[0m\u001b[1;33m=\u001b[0m\u001b[0mi\u001b[0m\u001b[1;33m+\u001b[0m\u001b[1;36m1\u001b[0m\u001b[1;33m\u001b[0m\u001b[0m\n\u001b[0;32m     34\u001b[0m \u001b[1;33m\u001b[0m\u001b[0m\n",
      "\u001b[1;31mValueError\u001b[0m: all the input array dimensions except for the concatenation axis must match exactly"
     ]
    }
   ],
   "source": [
    "#分散の初期設定\n",
    "Rtr = 0.3;\n",
    "R = np.diag([0.5, 0.2, 0.1]);\n",
    "Q = np.diag([2, 4, 3]);\n",
    "dt = 0.01;\n",
    "i =0\n",
    "\n",
    "# 真値の計算\n",
    "t = np.linspace(0,30,30/dt+1,dtype=float)#時間　dt=0.01の間隔で0から30秒までの配列\n",
    "xtr0 = np.array([5, 3, 3]).reshape(1,-1) #真値の初期値、行列xtr0の1番目の行\n",
    "ytr0 = myoutput(xtr0,t[0])#真値の出力\n",
    "w_0 =  Q*randn(xtr0.shape[1],1)\n",
    "xtr = xtr0\n",
    "ytr = ytr0.reshape(1,-1)\n",
    "yt = ytr\n",
    "w = w_0\n",
    "\n",
    "for i in t:\n",
    "  \n",
    "    k1 = lorenz(xtr[i,:] , t[i])\n",
    "    k2 = lorenz(xtr[i,:] +dt*k1/2 ,t[i]+dt/2)\n",
    "    k3 = lorenz(xtr[i,:] +dt*k2/2 ,t[i]+dt/2)\n",
    "    k4 = lorenz(xtr[i,:] +dt*k3 ,t[i]+dt)\n",
    "    w_t =  Q*randn(xtr[i,:].reshape(1,-1).shape[1],1)\n",
    "    xtr_t = xtr[i,:]  + dt* (k1+2*k2+2*k3+k4)/6 + w[:,0].T*dt\n",
    "    xtr_t = xtr_t.reshape(1,-1)\n",
    "    xtr = np.concatenate([xtr,xtr_t],axis=0)\n",
    "    ytr_t = myoutput(xtr[i,:] ,t[i]).reshape(1,-1)\n",
    "    yt_t = ytr_t + R*np.random.uniform(0, 1, (3, 1)))\n",
    "    \n",
    "    ytr = np.concatenate([ytr.reshape(-1,1),ytr_t.reshape(-1,1)],axis=1)\n",
    "    yt =  np.concatenate([yt.reshape(-1,1),yt_t.reshape(-1,1)],axis=1)\n",
    "    i=i+1\n",
    "\n",
    "\n",
    "yt"
   ]
  },
  {
   "cell_type": "code",
   "execution_count": null,
   "metadata": {
    "collapsed": false
   },
   "outputs": [],
   "source": [
    "#EnKFの初期設定\n",
    "M = 100 #サンプルの数\n",
    "barx0 = np.array([[2],[10],[1]])#状態の初期値\n",
    "p0 = np.diag([1,3,3])\n",
    "x0=barx0 +Q*randn(3,1)\n",
    "\n",
    "for j in range(M):\n",
    "        x_j= barx0 +np.dot(Q,np.random.uniform(0, 1, (3, 3)))\n",
    "        x0=np.concatenate([x0,x_j],axis=1)\n",
    "       \n",
    "#y0 = myoutput(x0[:,0].T,t(0) +R * randn())\n",
    "t[0] +np.dot(R, randn())"
   ]
  }
 ],
 "metadata": {
  "kernelspec": {
   "display_name": "Python 3",
   "language": "python",
   "name": "python3"
  },
  "language_info": {
   "codemirror_mode": {
    "name": "ipython",
    "version": 3
   },
   "file_extension": ".py",
   "mimetype": "text/x-python",
   "name": "python",
   "nbconvert_exporter": "python",
   "pygments_lexer": "ipython3",
   "version": "3.5.4"
  },
  "varInspector": {
   "cols": {
    "lenName": 16,
    "lenType": 16,
    "lenVar": 40
   },
   "kernels_config": {
    "python": {
     "delete_cmd_postfix": "",
     "delete_cmd_prefix": "del ",
     "library": "var_list.py",
     "varRefreshCmd": "print(var_dic_list())"
    },
    "r": {
     "delete_cmd_postfix": ") ",
     "delete_cmd_prefix": "rm(",
     "library": "var_list.r",
     "varRefreshCmd": "cat(var_dic_list()) "
    }
   },
   "types_to_exclude": [
    "module",
    "function",
    "builtin_function_or_method",
    "instance",
    "_Feature"
   ],
   "window_display": false
  }
 },
 "nbformat": 4,
 "nbformat_minor": 2
}
