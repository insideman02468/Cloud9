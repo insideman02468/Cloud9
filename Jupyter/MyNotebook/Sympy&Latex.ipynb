{
 "cells": [
  {
   "cell_type": "code",
   "execution_count": 1,
   "metadata": {
    "collapsed": false
   },
   "outputs": [],
   "source": [
    "%matplotlib inline\n",
    "from sympy import *\n",
    "import sympy\n",
    "from sympy.printing.mathml import print_mathml #outputにMathML\n",
    "#print_mathml(i)\n",
    "from IPython.display import display"
   ]
  },
  {
   "cell_type": "code",
   "execution_count": 2,
   "metadata": {
    "collapsed": false
   },
   "outputs": [
    {
     "data": {
      "text/plain": [
       "3*pi/2 + exp(I*x)/(x**2 + y)"
      ]
     },
     "execution_count": 2,
     "metadata": {},
     "output_type": "execute_result"
    }
   ],
   "source": [
    "x = Symbol('x')\n",
    "y = Symbol('y')\n",
    "Rational(3 ,2)*pi + exp(I*x) / (x**2 + y)"
   ]
  },
  {
   "cell_type": "code",
   "execution_count": 3,
   "metadata": {
    "collapsed": false
   },
   "outputs": [
    {
     "data": {
      "text/plain": [
       "x**2 + y + 1"
      ]
     },
     "execution_count": 3,
     "metadata": {},
     "output_type": "execute_result"
    }
   ],
   "source": [
    "expr = x**2 + y + 1\n",
    "expr"
   ]
  },
  {
   "cell_type": "code",
   "execution_count": 4,
   "metadata": {
    "collapsed": false
   },
   "outputs": [
    {
     "data": {
      "image/png": "[encoded data removed]",
      "text/latex": [
       "$$\\sin{\\left (x \\right )}$$"
      ],
      "text/plain": [
       "sin(x)"
      ]
     },
     "execution_count": 4,
     "metadata": {},
     "output_type": "execute_result"
    }
   ],
   "source": [
    "# LaTeXで数式を表示\n",
    "sympy.init_printing()\n",
    "\n",
    "# 記号xを定義\n",
    "sympy.var(\"x\")\n",
    "\n",
    "sympy.log(x)\n",
    "sympy.sin(x)"
   ]
  },
  {
   "cell_type": "code",
   "execution_count": 5,
   "metadata": {
    "collapsed": false
   },
   "outputs": [
    {
     "data": {
      "image/png": "[encoded data removed]",
      "text/latex": [
       "$$\\log{\\left (x \\right )}$$"
      ],
      "text/plain": [
       "log(x)"
      ]
     },
     "metadata": {},
     "output_type": "display_data"
    },
    {
     "data": {
      "image/png": "[encoded data removed]",
      "text/latex": [
       "$$\\sin{\\left (x \\right )}$$"
      ],
      "text/plain": [
       "sin(x)"
      ]
     },
     "metadata": {},
     "output_type": "display_data"
    }
   ],
   "source": [
    "# 記号xを定義\n",
    "sympy.var(\"x\")\n",
    "\n",
    "f = sympy.log(x)\n",
    "g = sympy.sin(x)\n",
    "\n",
    "display(f)\n",
    "display(g)"
   ]
  },
  {
   "cell_type": "code",
   "execution_count": 6,
   "metadata": {
    "collapsed": false
   },
   "outputs": [
    {
     "data": {
      "image/png": "[encoded data removed]",
      "text/latex": [
       "$$\\frac{\\sqrt{2}}{2} \\left(- e^{a} \\sin{\\left (a + \\frac{\\pi}{4} \\right )} + e^{b} \\sin{\\left (b + \\frac{\\pi}{4} \\right )}\\right)$$"
      ],
      "text/plain": [
       "   ⎛   a    ⎛    π⎞    b    ⎛    π⎞⎞\n",
       "√2⋅⎜- ℯ ⋅sin⎜a + ─⎟ + ℯ ⋅sin⎜b + ─⎟⎟\n",
       "   ⎝        ⎝    4⎠         ⎝    4⎠⎠\n",
       "────────────────────────────────────\n",
       "                 2                  "
      ]
     },
     "metadata": {},
     "output_type": "display_data"
    }
   ],
   "source": [
    "# 記号xを定義\n",
    "sympy.var(\"a b x y\")\n",
    "\n",
    "# f(x)=exp(x)*cos(x)\n",
    "f = sympy.exp(x) * sympy.cos(x)\n",
    "\n",
    "# f(x)をaからbまでxで積分する\n",
    "i = sympy.integrate(f, (x, a, b))\n",
    "\n",
    "# 数式をまとめる（整理する）\n",
    "i = sympy.simplify(i)\n",
    "\n",
    "# 数式をLaTeXで表示\n",
    "display(i)"
   ]
  },
  {
   "cell_type": "code",
   "execution_count": 7,
   "metadata": {
    "collapsed": false
   },
   "outputs": [
    {
     "name": "stdout",
     "output_type": "stream",
     "text": [
      "5*a*x**2\n"
     ]
    },
    {
     "data": {
      "image/png": "[encoded data removed]",
      "text/latex": [
       "$$5 a x^{2}$$"
      ],
      "text/plain": [
       "     2\n",
       "5⋅a⋅x "
      ]
     },
     "metadata": {},
     "output_type": "display_data"
    }
   ],
   "source": [
    "var(\"a:z\")              # a～zまで変数として扱う\n",
    "fx = a*x*x + 4*x*a*x    # 関数f(x)の定義\n",
    "fx = simplify(fx)       # f(x)の簡約化\n",
    "print(fx)               # 5*a*x**2\n",
    "display(fx)"
   ]
  },
  {
   "cell_type": "markdown",
   "metadata": {},
   "source": [
    "$$\n",
    "    % 空白は表示に影響しない。コメントは\"%\"で始める\n",
    "    % 下付き文字は\"_a\"、上付き文字は\"^a\"\n",
    "    % 改行は\"\\\\\"を付ける\n",
    "    y_1 = ax^2 \\\\\n",
    "    % 複数文字を1要素とする際は{...}で囲う\n",
    "    % 空白は\"\\quad\"\n",
    "    y_2 = ax^{10} \\quad y_3 = ax \\\\\n",
    "$$"
   ]
  },
  {
   "cell_type": "markdown",
   "metadata": {},
   "source": [
    "$$\n",
    "    \\frac{ 1 }{ 2 }\n",
    "$$"
   ]
  },
  {
   "cell_type": "markdown",
   "metadata": {},
   "source": [
    "$$\n",
    "\\displaystyle \\sum_{ i = 1 }^{ n } {a_n}\n",
    "$$"
   ]
  },
  {
   "cell_type": "markdown",
   "metadata": {},
   "source": [
    "$$\n",
    "    \\displaystyle \\sum_{  }^{  } {Q_c} + \\displaystyle \\sum_{  i = 1 }^{nsurfaces } {h_{i}A_{i}(T_{si}-T_{Z})}+\\dot{m}_{inf}c_p(T_{\\infty}-T_Z)+\\displaystyle \\sum_{i=1}^{nzones}{\\dot{m}_ic_p(T_{zi}-T_z)}+Q_{sys} = 0\n",
    "$$"
   ]
  },
  {
   "cell_type": "markdown",
   "metadata": {},
   "source": [
    "$$\n",
    "    Q_{sys}=mT_z+b\n",
    "$$"
   ]
  },
  {
   "cell_type": "markdown",
   "metadata": {},
   "source": [
    "$$\n",
    "    Q_{sys}=\\dot{m}_{sys}C_p(T_{supply}-T_z)\n",
    "$$"
   ]
  },
  {
   "cell_type": "markdown",
   "metadata": {},
   "source": [
    "$$\n",
    "m = \\frac{ dQ_{sys} }{ dT_z }\n",
    "$$"
   ]
  },
  {
   "cell_type": "markdown",
   "metadata": {},
   "source": [
    "$$\n",
    "    T_z= \\frac{\\displaystyle \\sum_{  }^{  }{ Q_c} + \\displaystyle \\sum_{  i = 1 }^{nsurfaces } {h_{i}A_{i}T_{si}}+\\dot{m}_{inf}c_pT_\\infty+\\displaystyle \\sum_{i=1}^{nzones}{\\dot{m}_ic_pT_{zi}+b}}{ \\displaystyle \\sum_{  i = 1 }^{nsurfaces } {h_{i}A_{i}}+\\dot{m}_{inf}c_p+\\displaystyle \\sum_{i=1}^{nzones}{\\dot{m}_{i}c_p}-m}\n",
    "$$"
   ]
  },
  {
   "cell_type": "markdown",
   "metadata": {},
   "source": [
    "$$\n",
    "    T_z^t=\\left( \\frac{ \\displaystyle \\sum_{  }^{  } {Q_c} + \\displaystyle \\sum_{  i = 1 }^{nsurfaces } {h_{i}A_{i}T_{si}}+\\dot{m}_{inf}c_pT_\\infty+\\displaystyle \\sum_{i=1}^{nzones}{\\dot{m}_ic_pT_{zi}}+Q_{sys} }{ \\displaystyle \\sum_{  i = 1 }^{nsurfaces } {h_{i}A_{i}}+\\dot{m}_{inf}c_p+\\displaystyle \\sum_{i=1}^{nzones}{\\dot{m}_{i}c_p} } \\right )^{(t-\\delta t)}\n",
    "$$"
   ]
  },
  {
   "cell_type": "markdown",
   "metadata": {},
   "source": [
    "$$\n",
    "    Q_{sys}=\\dot{m}_{sys}c_p(T_{supply}-T_z)\n",
    "$$"
   ]
  },
  {
   "cell_type": "markdown",
   "metadata": {},
   "source": [
    "$$\n",
    "    T_z^t=\\left( \\frac{ \\displaystyle \\sum_{  }^{  } {Q_c} + \\displaystyle \\sum_{  i = 1 }^{nsurfaces } {h_{i}A_{i}T_{si}}+\\dot{m}_{inf}c_pT_\\infty+\\displaystyle \\sum_{i=1}^{nzones}{\\dot{m}_ic_pT_{zi}}+\\dot{m}_{sys}c_pT_{supply} }{ \\displaystyle \\sum_{  i = 1 }^{nsurfaces } {h_{i}A_{i}}+\\dot{m}_{inf}c_p+\\displaystyle \\sum_{i=1}^{nzones}{\\dot{m}_{i}c_p}+\\dot{m}_{sys}c_p } \\right )^{(t-\\delta t)}\n",
    "$$"
   ]
  },
  {
   "cell_type": "markdown",
   "metadata": {},
   "source": [
    "$$\n",
    "    C_z\\frac{dT_z}{dt}=\\displaystyle \\sum_{  }^{  } {Q_c} + \\displaystyle \\sum_{  i = 1 }^{nsurfaces }{ h_{i}A_{i}(T_{si}-T_{Z})}+\\dot{m}_{inf}c_p(T_{\\infty}-T_Z)+\\displaystyle \\sum_{i=1}^{nzones}{\\dot{m}_ic_p(T_{zi}-T_z)}+\\dot{m}_{sys}c_p(T_{supply}-T_z)\n",
    "$$"
   ]
  },
  {
   "cell_type": "markdown",
   "metadata": {},
   "source": [
    "$$\n",
    "    {\\frac{dT_z}{dt}} {\\mid}_t  = Z \n",
    "$$"
   ]
  },
  {
   "cell_type": "markdown",
   "metadata": {},
   "source": [
    "$$\n",
    "    \\left. \\frac{dT_z}{dt} \\right|_{t} \\approx (\\delta t)^{-1}(T_Z^t-T_Z^{t-\\delta t})+O(\\delta t)\n",
    "$$"
   ]
  },
  {
   "cell_type": "markdown",
   "metadata": {},
   "source": [
    "$$\n",
    "    C_z\\frac{T_Z^t-T_Z^{t-\\delta t}}{\\delta t}=\n",
    "    (\\displaystyle \\sum_{  }^{  } {Q_c} + \\displaystyle \\sum_{  i = 1 }^{nsurfaces }{ h_{i}A_{i}(T_{si}-T_{Z})}+\\dot{m}_{inf}c_p(T_{\\infty}-T_Z)+\\displaystyle \\sum_{i=1}^{nzones}{\\dot{m}_ic_p(T_{zi}-T_z)}+\\dot{m}_{sys}c_p(T_{supply}-T_z))^{(t-\\delta t)}\n",
    "$$"
   ]
  },
  {
   "cell_type": "markdown",
   "metadata": {},
   "source": [
    "$$\n",
    " C_z\\frac{T_Z^t-T_Z^{t-\\delta t}}{\\delta t}=\\left(\\displaystyle \\sum_{  }^{  } {Q_c} + \\displaystyle \\sum_{  i = 1 }^{nsurfaces }{ h_{i}A_{i}(T_{si}-T_{Z})}+\\dot{m}_{inf}c_p(T_{\\infty}-T_Z)+\\displaystyle \\sum_{i=1}^{nzones}{\\dot{m}_ic_p(T_{zi}-T_z)}+\\dot{m}_{sys}c_p(T_{supply}-T_z)\\right)^{(t-\\delta t)}\n",
    "$$"
   ]
  },
  {
   "cell_type": "markdown",
   "metadata": {},
   "source": [
    "$$\n",
    "T_Z^t=T_Z^{t-\\delta t}+\\frac{\\delta t}{C_z}\\left(\\displaystyle \\sum_{  }^{  } {Q_c} + \\displaystyle \\sum_{  i = 1 }^{nsurfaces }{ h_{i}A_{i}(T_{si}-T_{Z})}+\\dot{m}_{inf}c_p(T_{\\infty}-T_Z)+\\displaystyle \\sum_{i=1}^{nzones}{\\dot{m}_ic_p(T_{zi}-T_z)}+\\dot{m}_{sys}c_p(T_{supply}-T_z)\\right)^{(t-\\delta t)}\n",
    "$$"
   ]
  },
  {
   "cell_type": "markdown",
   "metadata": {},
   "source": [
    "$$\n",
    "C_z\\frac{T_Z^t-T_Z^{t-\\delta t}}{\\delta t}+\\displaystyle \\sum_{  i = 1 }^{nsurfaces }{ h_{i}A_{i}T_{Z}^t}+\\dot{m}_{inf}c_pT_Z^t+\\displaystyle \\sum_{i=1}^{nzones}{\\dot{m}_ic_pT_z^t}+\\dot{m}_{sys}c_pT_z^t=\\left(\\displaystyle \\sum_{  }^{  } {Q_c} + \\displaystyle \\sum_{  i = 1 }^{nsurfaces }{ h_{i}A_{i}T_{si}}+\\dot{m}_{inf}c_pT_{\\infty}+\\displaystyle \\sum_{i=1}^{nzones}{\\dot{m}_ic_pT_{zi}}+\\dot{m}_{sys}c_pT_{supply}\\right)^{(t-\\delta t)}\n",
    "$$"
   ]
  },
  {
   "cell_type": "markdown",
   "metadata": {},
   "source": [
    "$$\n",
    "    T_Z^t=\\frac{ \\left(\\displaystyle \\sum_{  }^{  } {Q_c} + \\displaystyle \\sum_{  i = 1 }^{nsurfaces }{ h_{i}A_{i}T_{si}}+\\dot{m}_{inf}c_pT_{\\infty}+\\displaystyle \\sum_{i=1}^{nzones}{\\dot{m}_ic_pT_{zi}}+\\dot{m}_{sys}c_pT_{supply}\\right)^{(t-\\delta t)} }{ \\left(\\frac{C_z}{\\delta t}+\\displaystyle \\sum_{i=1}^{nsurfaces}{h_{i}A_{i}}+\\dot{m}_{inf}c_p+\\displaystyle \\sum_{i=1}^{nzones}{\\dot{m}_{i}c_p}+\\dot{m}_{sys}c_p\\right)  }\n",
    "$$"
   ]
  },
  {
   "cell_type": "markdown",
   "metadata": {},
   "source": [
    "$$\n",
    "    {\\frac{dT_z}{dt}} {\\mid}_t  = (\\delta t)^{-1}\\left(\\frac{ 3 }{ 2 }T_Z^{t} -2T_Z^{t-\\delta t} +\\frac{ 1 }{ 2 }T_Z^{t-2\\delta t}  \\right)+O(\\delta t^2)\n",
    "$$"
   ]
  },
  {
   "cell_type": "markdown",
   "metadata": {},
   "source": [
    "$$\n",
    "    {\\frac{dT_z}{dt}} {\\mid}_t  = (\\delta t)^{-1}\\left(\\frac{ 11 }{ 6 }T_Z^{t} -3T_Z^{t-\\delta t} +\\frac{ 3 }{ 2 }T_Z^{t-2\\delta t} -\\frac{ 1 }{ 3 }T_Z^{t-3\\delta t}  \\right)+O(\\delta t^3)\n",
    "$$"
   ]
  },
  {
   "cell_type": "markdown",
   "metadata": {},
   "source": [
    "$$\n",
    "    {\\frac{dT_z}{dt}} {\\mid}_t  = (\\delta t)^{-1}\\left(\\frac{ 25 }{ 11 }T_Z^{t} -4T_Z^{t-\\delta t} +3T_Z^{t-2\\delta t} -\\frac{ 4 }{ 3 }T_Z^{t-3\\delta t} + \\frac{ 1 }{ 4 }T_Z^{t-4\\delta t}   \\right)+O(\\delta t^4)\n",
    "$$"
   ]
  },
  {
   "cell_type": "markdown",
   "metadata": {},
   "source": [
    "$$\n",
    "    {\\frac{dT_z}{dt}} {\\mid}_t  = (\\delta t)^{-1}\\left(\\frac{ 137 }{ 60 }T_Z^{t} -5T_Z^{t-\\delta t} +5T_Z^{t-2\\delta t} -\\frac{ 10 }{ 3 }T_Z^{t-3\\delta t} + \\frac{ 5 }{ 4 }T_Z^{t-4\\delta t} - \\frac{ 1 }{ 5 }T_Z^{t-5\\delta t}   \\right)+O(\\delta t^5)\n",
    "$$"
   ]
  },
  {
   "cell_type": "markdown",
   "metadata": {},
   "source": [
    "$$\n",
    "\\displaystyle \\sum_{  }^{  } {Q_c} + \\displaystyle \\sum_{  i = 1 }^{nsurfaces }{ h_{i}A_{i}T_{si}}+\\dot{m}_{inf}c_pT_{\\infty}+\\displaystyle \\sum_{i=1}^{nzones}{\\dot{m}_ic_pT_{zi}}+\\dot{m}_{sys}c_pT_{supply}-\\left(\\frac{ C_z }{ \\delta t }\\right)\\left( -3T_Z^{t-\\delta t} +\\frac{ 3 }{ 2 }T_Z^{t-2\\delta t} -\\frac{ 1 }{ 3 }T_Z^{t-3\\delta t} \\right)\n",
    "$$"
   ]
  },
  {
   "cell_type": "markdown",
   "metadata": {},
   "source": [
    "$$\n",
    "    \\left(\\frac{ 11 }{ 6 }\\right)\\frac{ C_z }{ \\delta t } + \\displaystyle \\sum_{  i = 1 }^{nsurfaces } {h_{i}A_{i}}+\\dot{m}_{inf}c_p+\\displaystyle \\sum_{i=1}^{nzones}{\\dot{m}_{i}c_p}+\\dot{m}_{sys}c_p\n",
    "$$"
   ]
  },
  {
   "cell_type": "markdown",
   "metadata": {},
   "source": [
    "$$\n",
    "    T_Z^t=\\frac{ \\displaystyle \\sum_{  }^{  } {Q_c} + \\displaystyle \\sum_{  i = 1 }^{nsurfaces }{ h_{i}A_{i}T_{si}}+\\dot{m}_{inf}c_pT_{\\infty}+\\displaystyle \\sum_{i=1}^{nzones}{\\dot{m}_ic_pT_{zi}}+\\dot{m}_{sys}c_pT_{supply}-\\left(\\frac{ C_z }{ \\delta t }\\right)\\left( -3T_Z^{t-\\delta t} +\\frac{ 3 }{ 2 }T_Z^{t-2\\delta t} -\\frac{ 1 }{ 3 }T_Z^{t-3\\delta t} \\right)  }{ \\left(\\frac{ 11 }{ 6 }\\right)\\frac{ C_z }{ \\delta t } + \\displaystyle \\sum_{  i = 1 }^{nsurfaces } {h_{i}A_{i}}+\\dot{m}_{inf}c_p+\\displaystyle \\sum_{i=1}^{nzones}{\\dot{m}_{i}c_p}+\\dot{m}_{sys}c_p }\n",
    "$$"
   ]
  },
  {
   "cell_type": "markdown",
   "metadata": {},
   "source": [
    "$$\n",
    "\\dot{Q}_{sys} = \\dot{m}_{sys}C_p\\eta(T_{supply} - T_{Z,desired})\n",
    "$$"
   ]
  },
  {
   "cell_type": "markdown",
   "metadata": {},
   "source": [
    "$$\n",
    "    \\frac{ Q }{ A }=\\alpha E_t+h_o(t_o-t_s)-\\epsilon\\Delta R\n",
    "$$"
   ]
  },
  {
   "cell_type": "markdown",
   "metadata": {},
   "source": [
    "$$\n",
    "    \\frac{ Q }{ A }=h_o(t_o-t_s)\n",
    "$$"
   ]
  },
  {
   "cell_type": "markdown",
   "metadata": {},
   "source": [
    "$$\n",
    "   t_e=t_o+\\frac{ \\alpha E_t }{ h_o }-\\frac{ \\epsilon \\Delta R }{ h_o }\n",
    "$$"
   ]
  },
  {
   "cell_type": "markdown",
   "metadata": {},
   "source": [
    "$$\n",
    "q_b = AE_DSHGC(\\theta)\n",
    "$$"
   ]
  },
  {
   "cell_type": "markdown",
   "metadata": {},
   "source": [
    "$$\n",
    "q_d = A(E_d+E_r)(SHGC)_D\n",
    "$$"
   ]
  },
  {
   "cell_type": "markdown",
   "metadata": {},
   "source": [
    "$$\n",
    "q_c =UA(T_{out}-T_{in})\n",
    "$$"
   ]
  },
  {
   "cell_type": "markdown",
   "metadata": {},
   "source": [
    "$$\n",
    "Q = q_b+q_d+q_c\n",
    "$$"
   ]
  },
  {
   "cell_type": "markdown",
   "metadata": {},
   "source": [
    "$$\n",
    "Q=UA(t_b-t_i)\n",
    "$$"
   ]
  },
  {
   "cell_type": "markdown",
   "metadata": {},
   "source": [
    "$$\n",
    "Q_{el}=WF_{ul}F_{sa}\n",
    "$$"
   ]
  },
  {
   "cell_type": "markdown",
   "metadata": {},
   "source": [
    "$$\n",
    "Q_{em}=\\frac{ P }{ E_M }F_{UM}F_{LM}\n",
    "$$"
   ]
  },
  {
   "cell_type": "markdown",
   "metadata": {},
   "source": [
    "$$\n",
    "Q_s = q_{input}F_L\n",
    "$$"
   ]
  },
  {
   "cell_type": "markdown",
   "metadata": {},
   "source": [
    "$$\n",
    "Q_t =1.2Q_s\\Delta h\n",
    "$$"
   ]
  },
  {
   "cell_type": "markdown",
   "metadata": {},
   "source": [
    "$$\n",
    "Q_t=1.2(1.006+1.84W)Q_s \\Delta t\n",
    "$$"
   ]
  },
  {
   "cell_type": "markdown",
   "metadata": {},
   "source": [
    "$$\n",
    "Q_t=1.2\\cdot2500\\cdot Q_s \\Delta W\n",
    "$$"
   ]
  },
  {
   "cell_type": "markdown",
   "metadata": {},
   "source": [
    "$$\n",
    "q =UA \\Delta T\n",
    "$$"
   ]
  },
  {
   "cell_type": "markdown",
   "metadata": {},
   "source": [
    "$$\n",
    "Q=U\\cdot A \\cdot (CLTD)\n",
    "$$"
   ]
  },
  {
   "cell_type": "markdown",
   "metadata": {},
   "source": [
    "$$\n",
    "Q_{root}=U \\cdot A \\cdot \\cdot CLTD_{Roof \\,Corrected}\n",
    "$$"
   ]
  },
  {
   "cell_type": "markdown",
   "metadata": {},
   "source": [
    "$$\n",
    "CLTD_{ROOF\\,Corrected}=[CLTD_{Roof}+(78-TR)+(TM-85)]\n",
    "$$"
   ]
  },
  {
   "cell_type": "markdown",
   "metadata": {},
   "source": [
    "$$\n",
    "Q_{Wall}=U \\cdot A \\cdot CLTD_{Wall Corrected}\n",
    "$$"
   ]
  },
  {
   "cell_type": "markdown",
   "metadata": {},
   "source": [
    "$$\n",
    "Q_{Glass\\,Conductive}=U\\cdot A\\cdot CLTD_{Glass \\,Corrected}\n",
    "$$"
   ]
  },
  {
   "cell_type": "markdown",
   "metadata": {},
   "source": [
    "$$\n",
    "Q_{Glass\\, Solar}=A \\cdot SC \\cdot SCL\n",
    "$$"
   ]
  },
  {
   "cell_type": "markdown",
   "metadata": {},
   "source": [
    "$$\n",
    "Q=UA(T_a-T_{rc})\n",
    "$$"
   ]
  },
  {
   "cell_type": "markdown",
   "metadata": {},
   "source": [
    "$$\n",
    "Q_{sensible}=N(Q_s)(CLF)\n",
    "$$"
   ]
  },
  {
   "cell_type": "markdown",
   "metadata": {},
   "source": [
    "$$\n",
    "Q_{latent}=N(Q_L)\n",
    "$$"
   ]
  },
  {
   "cell_type": "markdown",
   "metadata": {},
   "source": [
    "$$\n",
    "Q =3.14 \\cdot W \\cdot F_{UT} \\cdot F_{SA}\n",
    "$$"
   ]
  },
  {
   "cell_type": "markdown",
   "metadata": {},
   "source": [
    "$$\n",
    "Q = 3.41 \\cdot W \\cdot F_{UT} \\cdot F_{SA} \\cdot (CLF)\n",
    "$$"
   ]
  },
  {
   "cell_type": "markdown",
   "metadata": {},
   "source": [
    "$$\n",
    "Q_{sensible}=1.08 \\cdot CFM \\cdot (T_o - T_i)\n",
    "$$"
   ]
  },
  {
   "cell_type": "markdown",
   "metadata": {},
   "source": [
    "$$\n",
    "Q_{latent}=4840 \\cdot CFM \\cdot (W_o - W_i)\n",
    "$$"
   ]
  },
  {
   "cell_type": "markdown",
   "metadata": {},
   "source": [
    "$$\n",
    "Q_{total}=4.5 \\cdot CFM \\cdot (h_o - h_i)\n",
    "$$"
   ]
  },
  {
   "cell_type": "markdown",
   "metadata": {},
   "source": [
    "$$\n",
    "   \\rho_a Vc_a  \\frac{ dT_i(t) }{ dt }=\\displaystyle \\sum_{  i = 1 }^{N }{ h_{w,i}A_{i,l}(T_{W,i,L}(t)-T_i(t))}+m_{Inf}(t)(T_O(t)-T_i(t))+\\displaystyle \\sum_{  i = 1 }^{ N }{ q_{j,conv}(t)}-Q_{sys,Sen}(t)\n",
    "$$"
   ]
  },
  {
   "cell_type": "markdown",
   "metadata": {},
   "source": [
    "$$\n",
    "Q_{Total} =Q_{roof} + Q_{walls} + Q_{windows} + Q_{people} +Q_{lights}+Q_{appliances}+Q_{ventilation}+Q_{infiltration}\n",
    "$$"
   ]
  },
  {
   "cell_type": "markdown",
   "metadata": {},
   "source": [
    "$$\n",
    "Cons_{G}=B_G \\cdot P_{NG} + A_G \\cdot P_G\n",
    "$$"
   ]
  },
  {
   "cell_type": "markdown",
   "metadata": {},
   "source": [
    "$$\n",
    "\\eta_G= \\frac{ P_G }{ Cons_G  } \n",
    "$$"
   ]
  },
  {
   "cell_type": "markdown",
   "metadata": {},
   "source": [
    "$$\n",
    "    LCOE= \\frac{ sum \\,of\\, costs \\,over \\,lifetime }{ sum\\, of\\, electrical\\, energy \\,produced\\,over\\, lifetime } = \\frac{ \\displaystyle \\sum_{ i = 1 }^{ n } { \\frac{I_t+M_t+F_t}{(1+r)^t} } }{  \\displaystyle \\sum_{ i = 1 }^{ n } { \\frac{E_t}{(1+r)^t} } } \n",
    "$$"
   ]
  },
  {
   "cell_type": "markdown",
   "metadata": {},
   "source": [
    "$$\n",
    " \\|x\\| \n",
    "$$"
   ]
  },
  {
   "cell_type": "markdown",
   "metadata": {},
   "source": [
    "$$\n",
    "    x_t =F_tx_{t-1}+B_tu_t+\\omega_t\n",
    "$$"
   ]
  },
  {
   "cell_type": "markdown",
   "metadata": {},
   "source": [
    "$$\n",
    "    z_t=H_tx_t+v_t\n",
    "$$"
   ]
  },
  {
   "cell_type": "markdown",
   "metadata": {},
   "source": [
    "$$\n",
    "    y=H_x+v\n",
    "$$"
   ]
  },
  {
   "cell_type": "markdown",
   "metadata": {},
   "source": [
    "$$\n",
    "    x \\sim  N ( \\overline{x},P)\n",
    "$$"
   ]
  },
  {
   "cell_type": "markdown",
   "metadata": {},
   "source": [
    "$$\n",
    "    v \\sim  N ( 0,R)\n",
    "$$"
   ]
  },
  {
   "cell_type": "markdown",
   "metadata": {},
   "source": [
    "$$\n",
    "    P(x,y)=\\frac{ 1 }{ \\sqrt{(2 \\pi)^{n+p}} |P||R|  } \\mathrm{e}^{-\\frac{ 1 }{ 2 } \\|x- \\overline{x}\\|^2_{P^-1} -\\frac{ 1 }{ 2 } \\|y- \\overline{H_x}\\|^2_{R^-1}}\n",
    "$$"
   ]
  },
  {
   "cell_type": "markdown",
   "metadata": {},
   "source": [
    "$$\n",
    "    \\|z\\|_{R^-1}=z^TR^{-1}z\n",
    "$$"
   ]
  },
  {
   "cell_type": "markdown",
   "metadata": {},
   "source": [
    "$$\n",
    "    \\hat{x}_{t/t},P_{t/t}\n",
    "$$"
   ]
  },
  {
   "cell_type": "markdown",
   "metadata": {},
   "source": [
    "$$\n",
    "    K_t=P_{t/t-1}H_t^T [H_tP_{t/t-1}H_t^T+R_t]^{-1}\n",
    "$$"
   ]
  },
  {
   "cell_type": "markdown",
   "metadata": {},
   "source": [
    "$$\n",
    "    \\hat{x}_{t/t}=\\hat{x}_{t/t-1}+K_t[y_t-H_t\\hat{x}_{t/t-1}]\n",
    "$$"
   ]
  },
  {
   "cell_type": "markdown",
   "metadata": {},
   "source": [
    "$$\n",
    "    P_{t/t}=P_{t/t-1}-K_tH_tP_{t/t-1}\n",
    "$$"
   ]
  },
  {
   "cell_type": "markdown",
   "metadata": {},
   "source": [
    "$$\n",
    "    \\hat{x}_{t+1/t}=F_t\\hat{x}_{t/t}\n",
    "$$"
   ]
  },
  {
   "cell_type": "markdown",
   "metadata": {},
   "source": [
    "$$\n",
    "    P_{t+1/t}=F_tP_{t/t}F_t^T + G_tQ_tG_t^T\n",
    "$$"
   ]
  },
  {
   "cell_type": "markdown",
   "metadata": {},
   "source": [
    "$$\n",
    "    V=V_{ref}({\\frac{H}{H_{ref}}})^{ \\alpha}\n",
    "$$"
   ]
  },
  {
   "cell_type": "markdown",
   "metadata": {},
   "source": [
    "$$\n",
    "    \\tau \\alpha G_t= \\eta_c G_t+ U_L(T_c-T_a)\n",
    "$$"
   ]
  },
  {
   "cell_type": "markdown",
   "metadata": {},
   "source": [
    "$$\n",
    "    T_c=T_a+(T_{c,NOCT}-T_{a,NOCT})( \\frac{G_T}{G_{T,NOCT}})(1- \\frac{\\eta_{mp}}{\\tau \\alpha})\n",
    "$$"
   ]
  }
 ],
 "metadata": {
  "kernelspec": {
   "display_name": "Python 3",
   "language": "python",
   "name": "python3"
  },
  "language_info": {
   "codemirror_mode": {
    "name": "ipython",
    "version": 3
   },
   "file_extension": ".py",
   "mimetype": "text/x-python",
   "name": "python",
   "nbconvert_exporter": "python",
   "pygments_lexer": "ipython3",
   "version": "3.5.4"
  },
  "varInspector": {
   "cols": {
    "lenName": 16,
    "lenType": 16,
    "lenVar": 40
   },
   "kernels_config": {
    "python": {
     "delete_cmd_postfix": "",
     "delete_cmd_prefix": "del ",
     "library": "var_list.py",
     "varRefreshCmd": "print(var_dic_list())"
    },
    "r": {
     "delete_cmd_postfix": ") ",
     "delete_cmd_prefix": "rm(",
     "library": "var_list.r",
     "varRefreshCmd": "cat(var_dic_list()) "
    }
   },
   "types_to_exclude": [
    "module",
    "function",
    "builtin_function_or_method",
    "instance",
    "_Feature"
   ],
   "window_display": false
  }
 },
 "nbformat": 4,
 "nbformat_minor": 2
}
